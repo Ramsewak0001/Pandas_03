{
 "cells": [
  {
   "cell_type": "code",
   "execution_count": null,
   "id": "4f2a43b2-ca48-4571-8d3e-ac7a87d4bca9",
   "metadata": {},
   "outputs": [],
   "source": [
    "Consider following code to answer further questions:\n",
    "import pandas as pd\n",
    "course_name = [‘Data Science’, ‘Machine Learning’, ‘Big Data’, ‘Data Engineer’]\n",
    "duration = [2,3,6,4]\n",
    "df = pd.DataFrame(data = {‘course_name’ : course_name, ‘duration’ : duration})"
   ]
  },
  {
   "cell_type": "code",
   "execution_count": 1,
   "id": "f50f5366-6a4a-4deb-925b-8771b4a5d990",
   "metadata": {},
   "outputs": [
    {
     "data": {
      "text/html": [
       "<div>\n",
       "<style scoped>\n",
       "    .dataframe tbody tr th:only-of-type {\n",
       "        vertical-align: middle;\n",
       "    }\n",
       "\n",
       "    .dataframe tbody tr th {\n",
       "        vertical-align: top;\n",
       "    }\n",
       "\n",
       "    .dataframe thead th {\n",
       "        text-align: right;\n",
       "    }\n",
       "</style>\n",
       "<table border=\"1\" class=\"dataframe\">\n",
       "  <thead>\n",
       "    <tr style=\"text-align: right;\">\n",
       "      <th></th>\n",
       "      <th>course_name</th>\n",
       "      <th>duration</th>\n",
       "    </tr>\n",
       "  </thead>\n",
       "  <tbody>\n",
       "    <tr>\n",
       "      <th>0</th>\n",
       "      <td>Data Science</td>\n",
       "      <td>2</td>\n",
       "    </tr>\n",
       "    <tr>\n",
       "      <th>1</th>\n",
       "      <td>Machine Learning</td>\n",
       "      <td>3</td>\n",
       "    </tr>\n",
       "    <tr>\n",
       "      <th>2</th>\n",
       "      <td>Big Data</td>\n",
       "      <td>6</td>\n",
       "    </tr>\n",
       "    <tr>\n",
       "      <th>3</th>\n",
       "      <td>Data Engineer</td>\n",
       "      <td>4</td>\n",
       "    </tr>\n",
       "  </tbody>\n",
       "</table>\n",
       "</div>"
      ],
      "text/plain": [
       "        course_name  duration\n",
       "0      Data Science         2\n",
       "1  Machine Learning         3\n",
       "2          Big Data         6\n",
       "3     Data Engineer         4"
      ]
     },
     "execution_count": 1,
     "metadata": {},
     "output_type": "execute_result"
    }
   ],
   "source": [
    "import pandas as pd\n",
    "course_name = ['Data Science', 'Machine Learning', 'Big Data', 'Data Engineer']\n",
    "duration = [2,3,6,4]\n",
    "df = pd.DataFrame(data = {'course_name' : course_name, 'duration' : duration})\n",
    "df"
   ]
  },
  {
   "cell_type": "code",
   "execution_count": null,
   "id": "b3c96d2a-567c-4188-9b9b-1c54a078334f",
   "metadata": {},
   "outputs": [],
   "source": [
    "Q1. Write a code to print the data present in the second row of the dataframe, df."
   ]
  },
  {
   "cell_type": "code",
   "execution_count": 2,
   "id": "59680b8e-4515-4bb4-8997-ddd9f796fe43",
   "metadata": {},
   "outputs": [
    {
     "data": {
      "text/plain": [
       "course_name    Machine Learning\n",
       "duration                      3\n",
       "Name: 1, dtype: object"
      ]
     },
     "execution_count": 2,
     "metadata": {},
     "output_type": "execute_result"
    }
   ],
   "source": [
    "df.iloc[1]"
   ]
  },
  {
   "cell_type": "code",
   "execution_count": null,
   "id": "90654888-a064-410e-9648-0367bfc36eff",
   "metadata": {},
   "outputs": [],
   "source": [
    "-----------------------------------------------------------------------------------------------------------------------------"
   ]
  },
  {
   "cell_type": "code",
   "execution_count": null,
   "id": "8e5f82cf-1bf5-43a0-8abc-0160a1a5ea66",
   "metadata": {},
   "outputs": [],
   "source": [
    "Q2. What is the difference between the functions loc and iloc in pandas.DataFrame?"
   ]
  },
  {
   "cell_type": "code",
   "execution_count": null,
   "id": "603cface-9223-44b7-bfbb-1192535773bb",
   "metadata": {},
   "outputs": [],
   "source": [
    "loc function is primarily used for label-based indexing, which means you can select data based on the row and column labels.\n",
    "You can specify the row label(s) and column label(s) directly to access the data. \n",
    "For example : \n",
    "          df.loc[1, 'course_name'] \n",
    "          selects the value at the intersection of row label 1 and column label 'course_name'.\n",
    "            \n",
    "iloc function is used for integer-based indexing, which means you can select data based on the integer position of the rows\n",
    "and columns. You specify the integer position(s) of the row(s) and column(s) to access the data.\n",
    "For example : \n",
    "            df.iloc[1, 0] \n",
    "            selects the value at the intersection of row position 1 and column position 0."
   ]
  },
  {
   "cell_type": "code",
   "execution_count": null,
   "id": "cf643a67-efe8-47e3-9850-9fabbe5e65cb",
   "metadata": {},
   "outputs": [],
   "source": [
    "-----------------------------------------------------------------------------------------------------------------------------"
   ]
  },
  {
   "cell_type": "code",
   "execution_count": null,
   "id": "539a38ec-0a72-46d2-8a61-91abea6fa119",
   "metadata": {},
   "outputs": [],
   "source": [
    "Q3. Reindex the given dataframe using a variable, reindex = [3,0,1,2] and store it in the variable, new_df\n",
    "    then find the output for both new_df.loc[2] and new_df.iloc[2].\n",
    "    Did you observe any difference in both the outputs? If so then explain it."
   ]
  },
  {
   "cell_type": "code",
   "execution_count": 3,
   "id": "01b01663-2ff7-46aa-8352-d0ed09539d9c",
   "metadata": {},
   "outputs": [
    {
     "data": {
      "text/html": [
       "<div>\n",
       "<style scoped>\n",
       "    .dataframe tbody tr th:only-of-type {\n",
       "        vertical-align: middle;\n",
       "    }\n",
       "\n",
       "    .dataframe tbody tr th {\n",
       "        vertical-align: top;\n",
       "    }\n",
       "\n",
       "    .dataframe thead th {\n",
       "        text-align: right;\n",
       "    }\n",
       "</style>\n",
       "<table border=\"1\" class=\"dataframe\">\n",
       "  <thead>\n",
       "    <tr style=\"text-align: right;\">\n",
       "      <th></th>\n",
       "      <th>course_name</th>\n",
       "      <th>duration</th>\n",
       "    </tr>\n",
       "  </thead>\n",
       "  <tbody>\n",
       "    <tr>\n",
       "      <th>3</th>\n",
       "      <td>Data Engineer</td>\n",
       "      <td>4</td>\n",
       "    </tr>\n",
       "    <tr>\n",
       "      <th>0</th>\n",
       "      <td>Data Science</td>\n",
       "      <td>2</td>\n",
       "    </tr>\n",
       "    <tr>\n",
       "      <th>1</th>\n",
       "      <td>Machine Learning</td>\n",
       "      <td>3</td>\n",
       "    </tr>\n",
       "    <tr>\n",
       "      <th>2</th>\n",
       "      <td>Big Data</td>\n",
       "      <td>6</td>\n",
       "    </tr>\n",
       "  </tbody>\n",
       "</table>\n",
       "</div>"
      ],
      "text/plain": [
       "        course_name  duration\n",
       "3     Data Engineer         4\n",
       "0      Data Science         2\n",
       "1  Machine Learning         3\n",
       "2          Big Data         6"
      ]
     },
     "execution_count": 3,
     "metadata": {},
     "output_type": "execute_result"
    }
   ],
   "source": [
    "reindex = [3,0,1,2]\n",
    "new_df = df.reindex(reindex)\n",
    "new_df"
   ]
  },
  {
   "cell_type": "code",
   "execution_count": 4,
   "id": "fe219925-ec96-4022-92a3-3b9b827470cc",
   "metadata": {},
   "outputs": [
    {
     "data": {
      "text/plain": [
       "course_name    Big Data\n",
       "duration              6\n",
       "Name: 2, dtype: object"
      ]
     },
     "execution_count": 4,
     "metadata": {},
     "output_type": "execute_result"
    }
   ],
   "source": [
    "new_df.loc[2]"
   ]
  },
  {
   "cell_type": "code",
   "execution_count": 5,
   "id": "ed6bcdcc-4343-498c-a6c7-66afa9df8309",
   "metadata": {},
   "outputs": [
    {
     "data": {
      "text/plain": [
       "course_name    Machine Learning\n",
       "duration                      3\n",
       "Name: 1, dtype: object"
      ]
     },
     "execution_count": 5,
     "metadata": {},
     "output_type": "execute_result"
    }
   ],
   "source": [
    "new_df.iloc[2]"
   ]
  },
  {
   "cell_type": "code",
   "execution_count": null,
   "id": "89b294c7-efca-4c31-94d0-0d0b9eff4ceb",
   "metadata": {},
   "outputs": [],
   "source": [
    "new_df.loc[2], it selects the row with the label/index '2' in the reindexed DataFrame.\n",
    "\n",
    "new_df.iloc[2], it selects the row at the integer position/index '2' in the reindexed DataFrame."
   ]
  },
  {
   "cell_type": "code",
   "execution_count": null,
   "id": "87650c1e-2147-4b59-8096-95344d5ff077",
   "metadata": {},
   "outputs": [],
   "source": [
    "-----------------------------------------------------------------------------------------------------------------------------"
   ]
  },
  {
   "cell_type": "code",
   "execution_count": null,
   "id": "e6777a4e-db40-4843-a22d-a8b49aaf2a6b",
   "metadata": {},
   "outputs": [],
   "source": [
    "Consider the below code to answer further questions:\n",
    "import pandas as pd\n",
    "import numpy as np\n",
    "columns = ['column_1', 'column_2', 'column_3', 'column_4', 'column_5', 'column_6']\n",
    "indices = [1,2,3,4,5,6]\n",
    "#Creating a dataframe:\n",
    "df1 = pd.DataFrame(np.random.rand(6,6), columns = columns, index = indices)"
   ]
  },
  {
   "cell_type": "code",
   "execution_count": 6,
   "id": "2690e767-2ec2-47a2-b5f8-93a7f739751b",
   "metadata": {},
   "outputs": [
    {
     "data": {
      "text/html": [
       "<div>\n",
       "<style scoped>\n",
       "    .dataframe tbody tr th:only-of-type {\n",
       "        vertical-align: middle;\n",
       "    }\n",
       "\n",
       "    .dataframe tbody tr th {\n",
       "        vertical-align: top;\n",
       "    }\n",
       "\n",
       "    .dataframe thead th {\n",
       "        text-align: right;\n",
       "    }\n",
       "</style>\n",
       "<table border=\"1\" class=\"dataframe\">\n",
       "  <thead>\n",
       "    <tr style=\"text-align: right;\">\n",
       "      <th></th>\n",
       "      <th>column_1</th>\n",
       "      <th>column_2</th>\n",
       "      <th>column_3</th>\n",
       "      <th>column_4</th>\n",
       "      <th>column_5</th>\n",
       "      <th>column_6</th>\n",
       "    </tr>\n",
       "  </thead>\n",
       "  <tbody>\n",
       "    <tr>\n",
       "      <th>1</th>\n",
       "      <td>0.631944</td>\n",
       "      <td>0.113962</td>\n",
       "      <td>0.070821</td>\n",
       "      <td>0.484948</td>\n",
       "      <td>0.239098</td>\n",
       "      <td>0.477715</td>\n",
       "    </tr>\n",
       "    <tr>\n",
       "      <th>2</th>\n",
       "      <td>0.584512</td>\n",
       "      <td>0.440525</td>\n",
       "      <td>0.044338</td>\n",
       "      <td>0.910068</td>\n",
       "      <td>0.079316</td>\n",
       "      <td>0.676135</td>\n",
       "    </tr>\n",
       "    <tr>\n",
       "      <th>3</th>\n",
       "      <td>0.567909</td>\n",
       "      <td>0.032222</td>\n",
       "      <td>0.293130</td>\n",
       "      <td>0.618637</td>\n",
       "      <td>0.767779</td>\n",
       "      <td>0.834146</td>\n",
       "    </tr>\n",
       "    <tr>\n",
       "      <th>4</th>\n",
       "      <td>0.054858</td>\n",
       "      <td>0.676762</td>\n",
       "      <td>0.653436</td>\n",
       "      <td>0.984054</td>\n",
       "      <td>0.791686</td>\n",
       "      <td>0.072908</td>\n",
       "    </tr>\n",
       "    <tr>\n",
       "      <th>5</th>\n",
       "      <td>0.075196</td>\n",
       "      <td>0.512043</td>\n",
       "      <td>0.676054</td>\n",
       "      <td>0.223074</td>\n",
       "      <td>0.482160</td>\n",
       "      <td>0.851764</td>\n",
       "    </tr>\n",
       "    <tr>\n",
       "      <th>6</th>\n",
       "      <td>0.989603</td>\n",
       "      <td>0.467323</td>\n",
       "      <td>0.140671</td>\n",
       "      <td>0.797296</td>\n",
       "      <td>0.546241</td>\n",
       "      <td>0.473042</td>\n",
       "    </tr>\n",
       "  </tbody>\n",
       "</table>\n",
       "</div>"
      ],
      "text/plain": [
       "   column_1  column_2  column_3  column_4  column_5  column_6\n",
       "1  0.631944  0.113962  0.070821  0.484948  0.239098  0.477715\n",
       "2  0.584512  0.440525  0.044338  0.910068  0.079316  0.676135\n",
       "3  0.567909  0.032222  0.293130  0.618637  0.767779  0.834146\n",
       "4  0.054858  0.676762  0.653436  0.984054  0.791686  0.072908\n",
       "5  0.075196  0.512043  0.676054  0.223074  0.482160  0.851764\n",
       "6  0.989603  0.467323  0.140671  0.797296  0.546241  0.473042"
      ]
     },
     "execution_count": 6,
     "metadata": {},
     "output_type": "execute_result"
    }
   ],
   "source": [
    "import pandas as pd\n",
    "import numpy as np\n",
    "columns = ['column_1', 'column_2', 'column_3', 'column_4', 'column_5', 'column_6']\n",
    "indices = [1,2,3,4,5,6]\n",
    "#Creating a dataframe:\n",
    "df1 = pd.DataFrame(np.random.rand(6,6), columns = columns, index = indices)\n",
    "df1"
   ]
  },
  {
   "cell_type": "code",
   "execution_count": null,
   "id": "b72d8ed2-6649-4d73-b920-141dea0213b1",
   "metadata": {},
   "outputs": [],
   "source": [
    "Q4. Write a code to find the following statistical measurements for the above dataframe df1:\n",
    "(i) mean of each and every column present in the dataframe.\n",
    "(ii) standard deviation of column, ‘column_2’"
   ]
  },
  {
   "cell_type": "code",
   "execution_count": 7,
   "id": "dca27b36-939f-49b8-9112-47943237a0ee",
   "metadata": {},
   "outputs": [
    {
     "data": {
      "text/plain": [
       "column_1    0.484004\n",
       "column_2    0.373806\n",
       "column_3    0.313075\n",
       "column_4    0.669680\n",
       "column_5    0.484380\n",
       "column_6    0.564285\n",
       "dtype: float64"
      ]
     },
     "execution_count": 7,
     "metadata": {},
     "output_type": "execute_result"
    }
   ],
   "source": [
    "df1.mean()"
   ]
  },
  {
   "cell_type": "code",
   "execution_count": 8,
   "id": "d0992e24-00c8-4cad-8432-f5d60226970c",
   "metadata": {},
   "outputs": [
    {
     "data": {
      "text/plain": [
       "0.2483092813868228"
      ]
     },
     "execution_count": 8,
     "metadata": {},
     "output_type": "execute_result"
    }
   ],
   "source": [
    "df1['column_2'].std()"
   ]
  },
  {
   "cell_type": "code",
   "execution_count": null,
   "id": "cf07bbfd-5d79-49e7-b037-ccb645551d7d",
   "metadata": {},
   "outputs": [],
   "source": [
    "-----------------------------------------------------------------------------------------------------------------------------"
   ]
  },
  {
   "cell_type": "code",
   "execution_count": null,
   "id": "b39e7558-fea7-4f5f-ace7-4122521a2f89",
   "metadata": {},
   "outputs": [],
   "source": [
    "Q5. Replace the data present in the second row of column, ‘column_2’ by a string variable then find the mean of column, column_2.\n",
    "If you are getting errors in executing it then explain why.\n",
    "[Hint: To replace the data use df1.loc[] and equate this to string data of your choice.]"
   ]
  },
  {
   "cell_type": "code",
   "execution_count": null,
   "id": "8fcc304a-4f2b-4072-91e1-c433262fb2e1",
   "metadata": {},
   "outputs": [],
   "source": [
    "df1.loc[2, 'column_2'] = 'New String'\n",
    "mean_column2 = df1['column_2'].mean()\n",
    "#  Incorrect column or index labels: Make sure the column and index labels provided in the code match the actual labels\n",
    "#  in the DataFrame. Ensure there are no typos or mismatched labels."
   ]
  },
  {
   "cell_type": "code",
   "execution_count": null,
   "id": "7a1890f1-8b9a-400e-ab0f-5cde04ff4519",
   "metadata": {},
   "outputs": [],
   "source": [
    "-----------------------------------------------------------------------------------------------------------------------------"
   ]
  },
  {
   "cell_type": "code",
   "execution_count": null,
   "id": "53c5342c-be3b-4381-a034-89641d5c792f",
   "metadata": {},
   "outputs": [],
   "source": [
    "Q6. What do you understand about the windows function in pandas and list the types of windows functions?"
   ]
  },
  {
   "cell_type": "code",
   "execution_count": null,
   "id": "9d9cf9d5-6e94-481c-b9ca-23c7b6ad7cb1",
   "metadata": {},
   "outputs": [],
   "source": [
    "the window functions are used to perform calculations on a specified window or subset of data within a DataFrame or Series. \n",
    "These functions allow for computations based on a sliding or rolling window of data, which can be useful for tasks such as\n",
    "calculating moving averages, cumulative sums, or applying other statistical operations over a specific range of values.\n",
    "Rolling Window Functions: \n",
    "                        These functions operate on a rolling window of data with a specified window size and perform \n",
    "                        calculations based on that window.\n",
    "Expanding Window Functions: \n",
    "                         These functions progressively expand the window size over time and compute calculations based on the\n",
    "                         expanding window.\n",
    "Window Aggregation Functions: \n",
    "                         These functions perform aggregate calculations on a specified window of data without maintaining the\n",
    "                         sliding nature.\n",
    "GroupBy Window Functions: \n",
    "                          These functions apply window operations within groups defined by one or more columns using the groupby function. "
   ]
  },
  {
   "cell_type": "code",
   "execution_count": null,
   "id": "e067b8b7-857a-4060-bdbe-a0c1a8bf869f",
   "metadata": {},
   "outputs": [],
   "source": [
    "-----------------------------------------------------------------------------------------------------------------------------"
   ]
  },
  {
   "cell_type": "code",
   "execution_count": null,
   "id": "321fa8b0-542c-4127-b13b-4b1b6446b698",
   "metadata": {},
   "outputs": [],
   "source": [
    "Q7. Write a code to print only the current month and year at the time of answering this question.\n",
    "    [Hint: Use pandas.datetime function]"
   ]
  },
  {
   "cell_type": "code",
   "execution_count": 9,
   "id": "e096664e-9c51-4bee-8fea-2971df2dff4c",
   "metadata": {},
   "outputs": [
    {
     "name": "stdout",
     "output_type": "stream",
     "text": [
      "2023-07-04 06:45:25.411186\n",
      "7\n",
      "2023\n"
     ]
    }
   ],
   "source": [
    "current_timestamp = pd.Timestamp.now()\n",
    "current_month = current_timestamp.month\n",
    "current_year = current_timestamp.year\n",
    "print(current_timestamp)\n",
    "print(current_month)\n",
    "print(current_year)"
   ]
  },
  {
   "cell_type": "code",
   "execution_count": null,
   "id": "466f8400-0123-4af7-b8fb-387ad63167ee",
   "metadata": {},
   "outputs": [],
   "source": [
    "-----------------------------------------------------------------------------------------------------------------------------"
   ]
  },
  {
   "cell_type": "code",
   "execution_count": null,
   "id": "8ebdd543-55f6-4317-a14b-fafe5cf54e31",
   "metadata": {},
   "outputs": [],
   "source": [
    "Q8. Write a Python program that takes in two dates as input (in the format YYYY-MM-DD) and\n",
    "    calculates the difference between them in days, hours, and minutes using Pandas time delta. The\n",
    "    program should prompt the user to enter the dates and display the result."
   ]
  },
  {
   "cell_type": "code",
   "execution_count": 10,
   "id": "07a56416-18bc-4bef-bd4c-47d2abc65e38",
   "metadata": {},
   "outputs": [
    {
     "name": "stdin",
     "output_type": "stream",
     "text": [
      "Enter the first date (YYYY-MM-DD):  2023-02-02\n",
      "Enter the second date (YYYY-MM-DD):  2023-09-09\n"
     ]
    },
    {
     "name": "stdout",
     "output_type": "stream",
     "text": [
      "The difference in Days is : 219\n",
      "The diference in hours is : 5256\n",
      "The diference in Minutes is : 315360\n"
     ]
    }
   ],
   "source": [
    "date1 = input(\"Enter the first date (YYYY-MM-DD): \")\n",
    "date2 = input(\"Enter the second date (YYYY-MM-DD): \")\n",
    "timestamp1 = pd.Timestamp(date1)\n",
    "timestamp2 = pd.Timestamp(date2)\n",
    "time_diff = timestamp2 - timestamp1\n",
    "days = time_diff.days\n",
    "hours = days*24\n",
    "minutes = hours*60\n",
    "print(\"The difference in Days is :\", days)\n",
    "print(\"The diference in hours is :\", hours)\n",
    "print(\"The diference in Minutes is :\", minutes)"
   ]
  },
  {
   "cell_type": "code",
   "execution_count": null,
   "id": "fd41dea2-9e2c-4e14-a250-9017c39a03eb",
   "metadata": {},
   "outputs": [],
   "source": [
    "-----------------------------------------------------------------------------------------------------------------------------"
   ]
  },
  {
   "cell_type": "code",
   "execution_count": null,
   "id": "7935ae83-c199-4ebb-88eb-a9ca4cadae46",
   "metadata": {},
   "outputs": [],
   "source": [
    "Q9. Write a Python program that reads a CSV file containing categorical data and converts a specified\n",
    "    column to a categorical data type. The program should prompt the user to enter the file path, column\n",
    "    name, and category order, and then display the sorted data."
   ]
  },
  {
   "cell_type": "code",
   "execution_count": 11,
   "id": "89d7898f-e870-479f-8540-477705b0a6f2",
   "metadata": {},
   "outputs": [
    {
     "data": {
      "text/html": [
       "<div>\n",
       "<style scoped>\n",
       "    .dataframe tbody tr th:only-of-type {\n",
       "        vertical-align: middle;\n",
       "    }\n",
       "\n",
       "    .dataframe tbody tr th {\n",
       "        vertical-align: top;\n",
       "    }\n",
       "\n",
       "    .dataframe thead th {\n",
       "        text-align: right;\n",
       "    }\n",
       "</style>\n",
       "<table border=\"1\" class=\"dataframe\">\n",
       "  <thead>\n",
       "    <tr style=\"text-align: right;\">\n",
       "      <th></th>\n",
       "      <th>Index</th>\n",
       "      <th>Organization Id</th>\n",
       "      <th>Name</th>\n",
       "      <th>Website</th>\n",
       "      <th>Country</th>\n",
       "      <th>Description</th>\n",
       "      <th>Founded</th>\n",
       "      <th>Industry</th>\n",
       "      <th>Number of employees</th>\n",
       "    </tr>\n",
       "  </thead>\n",
       "  <tbody>\n",
       "    <tr>\n",
       "      <th>0</th>\n",
       "      <td>1</td>\n",
       "      <td>FAB0d41d5b5d22c</td>\n",
       "      <td>Ferrell LLC</td>\n",
       "      <td>https://price.net/</td>\n",
       "      <td>Papua New Guinea</td>\n",
       "      <td>Horizontal empowering knowledgebase</td>\n",
       "      <td>1990</td>\n",
       "      <td>Plastics</td>\n",
       "      <td>3498</td>\n",
       "    </tr>\n",
       "    <tr>\n",
       "      <th>1</th>\n",
       "      <td>2</td>\n",
       "      <td>6A7EdDEA9FaDC52</td>\n",
       "      <td>Mckinney, Riley and Day</td>\n",
       "      <td>http://www.hall-buchanan.info/</td>\n",
       "      <td>Finland</td>\n",
       "      <td>User-centric system-worthy leverage</td>\n",
       "      <td>2015</td>\n",
       "      <td>Glass / Ceramics / Concrete</td>\n",
       "      <td>4952</td>\n",
       "    </tr>\n",
       "    <tr>\n",
       "      <th>2</th>\n",
       "      <td>3</td>\n",
       "      <td>0bFED1ADAE4bcC1</td>\n",
       "      <td>Hester Ltd</td>\n",
       "      <td>http://sullivan-reed.com/</td>\n",
       "      <td>China</td>\n",
       "      <td>Switchable scalable moratorium</td>\n",
       "      <td>1971</td>\n",
       "      <td>Public Safety</td>\n",
       "      <td>5287</td>\n",
       "    </tr>\n",
       "    <tr>\n",
       "      <th>3</th>\n",
       "      <td>4</td>\n",
       "      <td>2bFC1Be8a4ce42f</td>\n",
       "      <td>Holder-Sellers</td>\n",
       "      <td>https://becker.com/</td>\n",
       "      <td>Turkmenistan</td>\n",
       "      <td>De-engineered systemic artificial intelligence</td>\n",
       "      <td>2004</td>\n",
       "      <td>Automotive</td>\n",
       "      <td>921</td>\n",
       "    </tr>\n",
       "    <tr>\n",
       "      <th>4</th>\n",
       "      <td>5</td>\n",
       "      <td>9eE8A6a4Eb96C24</td>\n",
       "      <td>Mayer Group</td>\n",
       "      <td>http://www.brewer.com/</td>\n",
       "      <td>Mauritius</td>\n",
       "      <td>Synchronized needs-based challenge</td>\n",
       "      <td>1991</td>\n",
       "      <td>Transportation</td>\n",
       "      <td>7870</td>\n",
       "    </tr>\n",
       "    <tr>\n",
       "      <th>...</th>\n",
       "      <td>...</td>\n",
       "      <td>...</td>\n",
       "      <td>...</td>\n",
       "      <td>...</td>\n",
       "      <td>...</td>\n",
       "      <td>...</td>\n",
       "      <td>...</td>\n",
       "      <td>...</td>\n",
       "      <td>...</td>\n",
       "    </tr>\n",
       "    <tr>\n",
       "      <th>95</th>\n",
       "      <td>96</td>\n",
       "      <td>0a0bfFbBbB8eC7c</td>\n",
       "      <td>Holmes Group</td>\n",
       "      <td>https://mcdowell.org/</td>\n",
       "      <td>Ethiopia</td>\n",
       "      <td>Right-sized zero tolerance focus group</td>\n",
       "      <td>1975</td>\n",
       "      <td>Photography</td>\n",
       "      <td>2988</td>\n",
       "    </tr>\n",
       "    <tr>\n",
       "      <th>96</th>\n",
       "      <td>97</td>\n",
       "      <td>BA6Cd9Dae2Efd62</td>\n",
       "      <td>Good Ltd</td>\n",
       "      <td>http://duffy.com/</td>\n",
       "      <td>Anguilla</td>\n",
       "      <td>Reverse-engineered composite moratorium</td>\n",
       "      <td>1971</td>\n",
       "      <td>Consumer Services</td>\n",
       "      <td>4292</td>\n",
       "    </tr>\n",
       "    <tr>\n",
       "      <th>97</th>\n",
       "      <td>98</td>\n",
       "      <td>E7df80C60Abd7f9</td>\n",
       "      <td>Clements-Espinoza</td>\n",
       "      <td>http://www.flowers.net/</td>\n",
       "      <td>Falkland Islands (Malvinas)</td>\n",
       "      <td>Progressive modular hub</td>\n",
       "      <td>1991</td>\n",
       "      <td>Broadcast Media</td>\n",
       "      <td>236</td>\n",
       "    </tr>\n",
       "    <tr>\n",
       "      <th>98</th>\n",
       "      <td>99</td>\n",
       "      <td>AFc285dbE2fEd24</td>\n",
       "      <td>Mendez Inc</td>\n",
       "      <td>https://www.burke.net/</td>\n",
       "      <td>Kyrgyz Republic</td>\n",
       "      <td>User-friendly exuding migration</td>\n",
       "      <td>1993</td>\n",
       "      <td>Education Management</td>\n",
       "      <td>339</td>\n",
       "    </tr>\n",
       "    <tr>\n",
       "      <th>99</th>\n",
       "      <td>100</td>\n",
       "      <td>e9eB5A60Cef8354</td>\n",
       "      <td>Watkins-Kaiser</td>\n",
       "      <td>http://www.herring.com/</td>\n",
       "      <td>Togo</td>\n",
       "      <td>Synergistic background access</td>\n",
       "      <td>2009</td>\n",
       "      <td>Financial Services</td>\n",
       "      <td>2785</td>\n",
       "    </tr>\n",
       "  </tbody>\n",
       "</table>\n",
       "<p>100 rows × 9 columns</p>\n",
       "</div>"
      ],
      "text/plain": [
       "    Index  Organization Id                     Name  \\\n",
       "0       1  FAB0d41d5b5d22c              Ferrell LLC   \n",
       "1       2  6A7EdDEA9FaDC52  Mckinney, Riley and Day   \n",
       "2       3  0bFED1ADAE4bcC1               Hester Ltd   \n",
       "3       4  2bFC1Be8a4ce42f           Holder-Sellers   \n",
       "4       5  9eE8A6a4Eb96C24              Mayer Group   \n",
       "..    ...              ...                      ...   \n",
       "95     96  0a0bfFbBbB8eC7c             Holmes Group   \n",
       "96     97  BA6Cd9Dae2Efd62                 Good Ltd   \n",
       "97     98  E7df80C60Abd7f9        Clements-Espinoza   \n",
       "98     99  AFc285dbE2fEd24               Mendez Inc   \n",
       "99    100  e9eB5A60Cef8354           Watkins-Kaiser   \n",
       "\n",
       "                           Website                      Country  \\\n",
       "0               https://price.net/             Papua New Guinea   \n",
       "1   http://www.hall-buchanan.info/                      Finland   \n",
       "2        http://sullivan-reed.com/                        China   \n",
       "3              https://becker.com/                 Turkmenistan   \n",
       "4           http://www.brewer.com/                    Mauritius   \n",
       "..                             ...                          ...   \n",
       "95           https://mcdowell.org/                     Ethiopia   \n",
       "96               http://duffy.com/                     Anguilla   \n",
       "97         http://www.flowers.net/  Falkland Islands (Malvinas)   \n",
       "98          https://www.burke.net/              Kyrgyz Republic   \n",
       "99         http://www.herring.com/                         Togo   \n",
       "\n",
       "                                       Description  Founded  \\\n",
       "0              Horizontal empowering knowledgebase     1990   \n",
       "1              User-centric system-worthy leverage     2015   \n",
       "2                   Switchable scalable moratorium     1971   \n",
       "3   De-engineered systemic artificial intelligence     2004   \n",
       "4               Synchronized needs-based challenge     1991   \n",
       "..                                             ...      ...   \n",
       "95          Right-sized zero tolerance focus group     1975   \n",
       "96         Reverse-engineered composite moratorium     1971   \n",
       "97                         Progressive modular hub     1991   \n",
       "98                 User-friendly exuding migration     1993   \n",
       "99                   Synergistic background access     2009   \n",
       "\n",
       "                       Industry  Number of employees  \n",
       "0                      Plastics                 3498  \n",
       "1   Glass / Ceramics / Concrete                 4952  \n",
       "2                 Public Safety                 5287  \n",
       "3                    Automotive                  921  \n",
       "4                Transportation                 7870  \n",
       "..                          ...                  ...  \n",
       "95                  Photography                 2988  \n",
       "96            Consumer Services                 4292  \n",
       "97              Broadcast Media                  236  \n",
       "98         Education Management                  339  \n",
       "99           Financial Services                 2785  \n",
       "\n",
       "[100 rows x 9 columns]"
      ]
     },
     "execution_count": 11,
     "metadata": {},
     "output_type": "execute_result"
    }
   ],
   "source": [
    "df = pd.read_csv('Test.csv')\n",
    "df"
   ]
  },
  {
   "cell_type": "code",
   "execution_count": 12,
   "id": "4aa9bf8a-8584-4bc9-a200-22ccad8ebf1b",
   "metadata": {},
   "outputs": [
    {
     "data": {
      "text/plain": [
       "0     3498\n",
       "1     4952\n",
       "2     5287\n",
       "3      921\n",
       "4     7870\n",
       "      ... \n",
       "95    2988\n",
       "96    4292\n",
       "97     236\n",
       "98     339\n",
       "99    2785\n",
       "Name: Number of employees, Length: 100, dtype: int64"
      ]
     },
     "execution_count": 12,
     "metadata": {},
     "output_type": "execute_result"
    }
   ],
   "source": [
    "df1 = df['Number of employees']\n",
    "df1"
   ]
  },
  {
   "cell_type": "code",
   "execution_count": 13,
   "id": "9352d415-5fda-48f2-9c01-3f72c15e4737",
   "metadata": {},
   "outputs": [
    {
     "data": {
      "text/plain": [
       "97     236\n",
       "98     339\n",
       "60     346\n",
       "30     365\n",
       "69     563\n",
       "      ... \n",
       "61    9097\n",
       "63    9315\n",
       "47    9443\n",
       "9     9698\n",
       "37    9995\n",
       "Name: Number of employees, Length: 100, dtype: int64"
      ]
     },
     "execution_count": 13,
     "metadata": {},
     "output_type": "execute_result"
    }
   ],
   "source": [
    "df1.sort_values()"
   ]
  },
  {
   "cell_type": "code",
   "execution_count": 14,
   "id": "fde92bec-a75d-4b78-a691-4a77f824564a",
   "metadata": {},
   "outputs": [
    {
     "name": "stdin",
     "output_type": "stream",
     "text": [
      "Enter the file path:  Test.csv\n",
      "Enter the column name:  Number of employees\n",
      "Enter the category order:  ,\n"
     ]
    },
    {
     "data": {
      "text/plain": [
       "97     236\n",
       "98     339\n",
       "60     346\n",
       "30     365\n",
       "69     563\n",
       "      ... \n",
       "61    9097\n",
       "63    9315\n",
       "47    9443\n",
       "9     9698\n",
       "37    9995\n",
       "Name: Number of employees, Length: 100, dtype: int64"
      ]
     },
     "execution_count": 14,
     "metadata": {},
     "output_type": "execute_result"
    }
   ],
   "source": [
    "import pandas as pd\n",
    "file_path = input(\"Enter the file path: \")\n",
    "column_name = input(\"Enter the column name: \")\n",
    "category_order = input(\"Enter the category order: \")\n",
    "\n",
    "df = pd.read_csv(file_path)\n",
    "df1 = df[column_name]\n",
    "df1.sort_values()"
   ]
  },
  {
   "cell_type": "code",
   "execution_count": null,
   "id": "cd9c31aa-619f-4233-894a-feb48c3996c8",
   "metadata": {},
   "outputs": [],
   "source": [
    "-----------------------------------------------------------------------------------------------------------------------------"
   ]
  },
  {
   "cell_type": "code",
   "execution_count": null,
   "id": "c9292ab7-c7cb-4661-b112-1b5b8457dafa",
   "metadata": {},
   "outputs": [],
   "source": [
    "Q10. Write a Python program that reads a CSV file containing sales data for different products and\n",
    "visualizes the data using a stacked bar chart to show the sales of each product category over time. The\n",
    "program should prompt the user to enter the file path and display the chart."
   ]
  },
  {
   "cell_type": "code",
   "execution_count": 15,
   "id": "4883d80b-ab85-4fad-991a-196e2b6a9237",
   "metadata": {},
   "outputs": [],
   "source": [
    "#  creating a CSV file of product and sales\n",
    "data = [['Product','Sales'],['P-1',12],['P-2',9],['P-3',20],['P-4',7],['P-5',13],['P-6',2],['P-7',10],['P-8',19]]\n",
    "import csv\n",
    "with open (\"data.csv\",\"w\") as f :\n",
    "    writer = csv.writer(f)\n",
    "    for i in data:\n",
    "        writer.writerow(i)"
   ]
  },
  {
   "cell_type": "code",
   "execution_count": 16,
   "id": "9c3e68b7-8f8e-4939-80d1-b27209d7c456",
   "metadata": {},
   "outputs": [
    {
     "name": "stdin",
     "output_type": "stream",
     "text": [
      "Enter the file path:  data.csv\n"
     ]
    },
    {
     "data": {
      "text/html": [
       "<div>\n",
       "<style scoped>\n",
       "    .dataframe tbody tr th:only-of-type {\n",
       "        vertical-align: middle;\n",
       "    }\n",
       "\n",
       "    .dataframe tbody tr th {\n",
       "        vertical-align: top;\n",
       "    }\n",
       "\n",
       "    .dataframe thead th {\n",
       "        text-align: right;\n",
       "    }\n",
       "</style>\n",
       "<table border=\"1\" class=\"dataframe\">\n",
       "  <thead>\n",
       "    <tr style=\"text-align: right;\">\n",
       "      <th></th>\n",
       "      <th>Product</th>\n",
       "      <th>Sales</th>\n",
       "    </tr>\n",
       "  </thead>\n",
       "  <tbody>\n",
       "    <tr>\n",
       "      <th>0</th>\n",
       "      <td>P-1</td>\n",
       "      <td>12</td>\n",
       "    </tr>\n",
       "    <tr>\n",
       "      <th>1</th>\n",
       "      <td>P-2</td>\n",
       "      <td>9</td>\n",
       "    </tr>\n",
       "    <tr>\n",
       "      <th>2</th>\n",
       "      <td>P-3</td>\n",
       "      <td>20</td>\n",
       "    </tr>\n",
       "    <tr>\n",
       "      <th>3</th>\n",
       "      <td>P-4</td>\n",
       "      <td>7</td>\n",
       "    </tr>\n",
       "    <tr>\n",
       "      <th>4</th>\n",
       "      <td>P-5</td>\n",
       "      <td>13</td>\n",
       "    </tr>\n",
       "    <tr>\n",
       "      <th>5</th>\n",
       "      <td>P-6</td>\n",
       "      <td>2</td>\n",
       "    </tr>\n",
       "    <tr>\n",
       "      <th>6</th>\n",
       "      <td>P-7</td>\n",
       "      <td>10</td>\n",
       "    </tr>\n",
       "    <tr>\n",
       "      <th>7</th>\n",
       "      <td>P-8</td>\n",
       "      <td>19</td>\n",
       "    </tr>\n",
       "  </tbody>\n",
       "</table>\n",
       "</div>"
      ],
      "text/plain": [
       "  Product  Sales\n",
       "0     P-1     12\n",
       "1     P-2      9\n",
       "2     P-3     20\n",
       "3     P-4      7\n",
       "4     P-5     13\n",
       "5     P-6      2\n",
       "6     P-7     10\n",
       "7     P-8     19"
      ]
     },
     "execution_count": 16,
     "metadata": {},
     "output_type": "execute_result"
    }
   ],
   "source": [
    "file_path = input(\"Enter the file path: \")\n",
    "df = pd.read_csv(file_path)\n",
    "df"
   ]
  },
  {
   "cell_type": "code",
   "execution_count": 17,
   "id": "062d9949-fd45-47a7-bc16-e26f1861c144",
   "metadata": {},
   "outputs": [
    {
     "data": {
      "text/plain": [
       "Text(0.5, 1.0, 'Sales Data by Product Category')"
      ]
     },
     "execution_count": 17,
     "metadata": {},
     "output_type": "execute_result"
    },
    {
     "data": {
      "image/png": "[encoded data removed]",
      "text/plain": [
       "<Figure size 640x480 with 1 Axes>"
      ]
     },
     "metadata": {},
     "output_type": "display_data"
    }
   ],
   "source": [
    "import matplotlib.pyplot as plt\n",
    "Product = df['Product']\n",
    "sales = df['Sales']\n",
    "\n",
    "# Create a bar chart\n",
    "plt.bar(Product, sales)\n",
    "\n",
    "# Add labels and title\n",
    "plt.xlabel('Product Category')\n",
    "plt.ylabel('Sales')\n",
    "plt.title('Sales Data by Product Category')"
   ]
  },
  {
   "cell_type": "code",
   "execution_count": null,
   "id": "9784237b-b9b8-44c8-969b-1be830c500c3",
   "metadata": {},
   "outputs": [],
   "source": [
    "-----------------------------------------------------------------------------------------------------------------------------"
   ]
  },
  {
   "cell_type": "code",
   "execution_count": null,
   "id": "d58b399b-665c-406c-877e-6a956e9c4f6a",
   "metadata": {},
   "outputs": [],
   "source": [
    "Q11. You are given a CSV file containing student data that includes the student ID and their test score. Write\n",
    "a Python program that reads the CSV file, calculates the mean, median, and mode of the test scores, and\n",
    "displays the results in a table.\n",
    "The program should do the followingM\n",
    "I Prompt the user to enter the file path of the CSV file containing the student dataR\n",
    "I Read the CSV file into a Pandas DataFrameR\n",
    "I Calculate the mean, median, and mode of the test scores using Pandas toolsR\n",
    "I Display the mean, median, and mode in a table.\n",
    "Assume the CSV file contains the following columnsM\n",
    "I Student ID: The ID of the studentR\n",
    "I Test Score: The score of the student's test.\n",
    "Example usage of the program:\n",
    "Enter the file path of the CSV file containing the student data: student_data.csv\n",
    "+-----------+--------+\n",
    "| Statistic | Value |\n",
    "+-----------+--------+\n",
    "| Mean | 79.6 |\n",
    "| Median | 82 |\n",
    "| Mode | 85, 90 |\n",
    "+-----------+--------+\n",
    "Assume that the CSV file student_data.csv contains the following data:\n",
    "Student ID,Test Score\n",
    "1,85\n",
    "2,90\n",
    "3,80\n",
    "4,75\n",
    "5,85\n",
    "6,82\n",
    "7,78\n",
    "8,85\n",
    "9,90\n",
    "10,85\n",
    "The program should calculate the mean, median, and mode of the test scores and display the results\n",
    "in a table."
   ]
  },
  {
   "cell_type": "code",
   "execution_count": 18,
   "id": "a6b48afe-e55a-42bc-8cca-c044bb2d5c94",
   "metadata": {},
   "outputs": [],
   "source": [
    "import csv\n",
    "data = [[\"Student ID\", \"Test Score\"],[1,85],[2,90],[3,80],[4,75],[5,85],[6,82],[7,78],[8,85],[9,90],[10,85]]\n",
    "with open (\"Score.csv\",\"w\") as f :\n",
    "    writer = csv.writer(f)\n",
    "    for i in data :\n",
    "        writer.writerow(i)"
   ]
  },
  {
   "cell_type": "code",
   "execution_count": 19,
   "id": "01f29d03-f21a-436f-a0bf-9eb221925605",
   "metadata": {},
   "outputs": [
    {
     "name": "stdin",
     "output_type": "stream",
     "text": [
      "Enter the file path:  Score.csv\n"
     ]
    },
    {
     "data": {
      "text/html": [
       "<div>\n",
       "<style scoped>\n",
       "    .dataframe tbody tr th:only-of-type {\n",
       "        vertical-align: middle;\n",
       "    }\n",
       "\n",
       "    .dataframe tbody tr th {\n",
       "        vertical-align: top;\n",
       "    }\n",
       "\n",
       "    .dataframe thead th {\n",
       "        text-align: right;\n",
       "    }\n",
       "</style>\n",
       "<table border=\"1\" class=\"dataframe\">\n",
       "  <thead>\n",
       "    <tr style=\"text-align: right;\">\n",
       "      <th></th>\n",
       "      <th>Student ID</th>\n",
       "      <th>Test Score</th>\n",
       "    </tr>\n",
       "  </thead>\n",
       "  <tbody>\n",
       "    <tr>\n",
       "      <th>0</th>\n",
       "      <td>1</td>\n",
       "      <td>85</td>\n",
       "    </tr>\n",
       "    <tr>\n",
       "      <th>1</th>\n",
       "      <td>2</td>\n",
       "      <td>90</td>\n",
       "    </tr>\n",
       "    <tr>\n",
       "      <th>2</th>\n",
       "      <td>3</td>\n",
       "      <td>80</td>\n",
       "    </tr>\n",
       "    <tr>\n",
       "      <th>3</th>\n",
       "      <td>4</td>\n",
       "      <td>75</td>\n",
       "    </tr>\n",
       "    <tr>\n",
       "      <th>4</th>\n",
       "      <td>5</td>\n",
       "      <td>85</td>\n",
       "    </tr>\n",
       "    <tr>\n",
       "      <th>5</th>\n",
       "      <td>6</td>\n",
       "      <td>82</td>\n",
       "    </tr>\n",
       "    <tr>\n",
       "      <th>6</th>\n",
       "      <td>7</td>\n",
       "      <td>78</td>\n",
       "    </tr>\n",
       "    <tr>\n",
       "      <th>7</th>\n",
       "      <td>8</td>\n",
       "      <td>85</td>\n",
       "    </tr>\n",
       "    <tr>\n",
       "      <th>8</th>\n",
       "      <td>9</td>\n",
       "      <td>90</td>\n",
       "    </tr>\n",
       "    <tr>\n",
       "      <th>9</th>\n",
       "      <td>10</td>\n",
       "      <td>85</td>\n",
       "    </tr>\n",
       "  </tbody>\n",
       "</table>\n",
       "</div>"
      ],
      "text/plain": [
       "   Student ID  Test Score\n",
       "0           1          85\n",
       "1           2          90\n",
       "2           3          80\n",
       "3           4          75\n",
       "4           5          85\n",
       "5           6          82\n",
       "6           7          78\n",
       "7           8          85\n",
       "8           9          90\n",
       "9          10          85"
      ]
     },
     "execution_count": 19,
     "metadata": {},
     "output_type": "execute_result"
    }
   ],
   "source": [
    "file_path = input(\"Enter the file path: \")\n",
    "df = pd.read_csv(file_path)\n",
    "df"
   ]
  },
  {
   "cell_type": "code",
   "execution_count": 20,
   "id": "29d3f045-931d-451b-b1fa-15d901ce4599",
   "metadata": {},
   "outputs": [
    {
     "data": {
      "text/html": [
       "<div>\n",
       "<style scoped>\n",
       "    .dataframe tbody tr th:only-of-type {\n",
       "        vertical-align: middle;\n",
       "    }\n",
       "\n",
       "    .dataframe tbody tr th {\n",
       "        vertical-align: top;\n",
       "    }\n",
       "\n",
       "    .dataframe thead th {\n",
       "        text-align: right;\n",
       "    }\n",
       "</style>\n",
       "<table border=\"1\" class=\"dataframe\">\n",
       "  <thead>\n",
       "    <tr style=\"text-align: right;\">\n",
       "      <th></th>\n",
       "      <th>Statistic</th>\n",
       "      <th>Values</th>\n",
       "    </tr>\n",
       "  </thead>\n",
       "  <tbody>\n",
       "    <tr>\n",
       "      <th>0</th>\n",
       "      <td>mean</td>\n",
       "      <td>83.5</td>\n",
       "    </tr>\n",
       "    <tr>\n",
       "      <th>1</th>\n",
       "      <td>mode</td>\n",
       "      <td>0    85\n",
       "Name: Test Score, dtype: int64</td>\n",
       "    </tr>\n",
       "    <tr>\n",
       "      <th>2</th>\n",
       "      <td>median</td>\n",
       "      <td>85.0</td>\n",
       "    </tr>\n",
       "  </tbody>\n",
       "</table>\n",
       "</div>"
      ],
      "text/plain": [
       "  Statistic                                  Values\n",
       "0      mean                                    83.5\n",
       "1      mode  0    85\n",
       "Name: Test Score, dtype: int64\n",
       "2    median                                    85.0"
      ]
     },
     "execution_count": 20,
     "metadata": {},
     "output_type": "execute_result"
    }
   ],
   "source": [
    "df1 = pd.DataFrame({'Statistic' : ['mean','mode','median'],\n",
    "                    'Values' :[df['Test Score'].mean(),df['Test Score'].mode(),df['Test Score'].median()]})\n",
    "df1"
   ]
  }
 ],
 "metadata": {
  "kernelspec": {
   "display_name": "Python 3 (ipykernel)",
   "language": "python",
   "name": "python3"
  },
  "language_info": {
   "codemirror_mode": {
    "name": "ipython",
    "version": 3
   },
   "file_extension": ".py",
   "mimetype": "text/x-python",
   "name": "python",
   "nbconvert_exporter": "python",
   "pygments_lexer": "ipython3",
   "version": "3.10.8"
  }
 },
 "nbformat": 4,
 "nbformat_minor": 5
}
